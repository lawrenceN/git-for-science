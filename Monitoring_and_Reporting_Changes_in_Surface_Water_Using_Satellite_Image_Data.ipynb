{
  "nbformat": 4,
  "nbformat_minor": 0,
  "metadata": {
    "colab": {
      "name": "Monitoring and Reporting Changes in Surface Water Using Satellite Image Data.ipynb",
      "provenance": [],
      "toc_visible": true,
      "authorship_tag": "ABX9TyM4RYvHQst/6KTGT12QAdw8",
      "include_colab_link": true
    },
    "kernelspec": {
      "name": "python3",
      "display_name": "Python 3"
    }
  },
  "cells": [
    {
      "cell_type": "markdown",
      "metadata": {
        "id": "view-in-github",
        "colab_type": "text"
      },
      "source": [
        "<a href=\"https://colab.research.google.com/github/lawrenceN/git-for-science/blob/master/Monitoring_and_Reporting_Changes_in_Surface_Water_Using_Satellite_Image_Data.ipynb\" target=\"_parent\"><img src=\"https://colab.research.google.com/assets/colab-badge.svg\" alt=\"Open In Colab\"/></a>"
      ]
    },
    {
      "cell_type": "markdown",
      "metadata": {
        "id": "NQqr1eOcKGBN",
        "colab_type": "text"
      },
      "source": [
        ""
      ]
    },
    {
      "cell_type": "markdown",
      "metadata": {
        "id": "fBZhLTQ8KIUz",
        "colab_type": "text"
      },
      "source": [
        "# Introduction"
      ]
    },
    {
      "cell_type": "markdown",
      "metadata": {
        "id": "i1XnG9ejKMvZ",
        "colab_type": "text"
      },
      "source": [
        "According to the UNESCO, **'Freshwater is the most important resource for human kind living'**. Fresh water is an enabling or a source of conflict for any technological, social, cooperation or conflict in the world. Comparing past water resources with those of the present can help us understand how past sociental and economic decisions can contribute to more informed management decision in the future. We have publicly available dataset from orgnizations like NASA and European Space Agency - Sentinel 2 . You have been hired by the UNESCO, to use satellite imagery and deep learning image segmentation algorithms to assess the changes to freshwater resources over time. "
      ]
    },
    {
      "cell_type": "code",
      "metadata": {
        "id": "MYkA6_LBKLtW",
        "colab_type": "code",
        "colab": {}
      },
      "source": [
        ""
      ],
      "execution_count": null,
      "outputs": []
    },
    {
      "cell_type": "markdown",
      "metadata": {
        "id": "h6SzkuTTMI8E",
        "colab_type": "text"
      },
      "source": [
        "# Getting Started"
      ]
    },
    {
      "cell_type": "markdown",
      "metadata": {
        "id": "GDwYnOggQ66f",
        "colab_type": "text"
      },
      "source": [
        "We demonstrate how to load images. We will start by using one image from the inbuilt CIFAR10 dataset. We take the first iamge and delete the rest."
      ]
    },
    {
      "cell_type": "code",
      "metadata": {
        "id": "CJKdccCDMMLn",
        "colab_type": "code",
        "colab": {}
      },
      "source": [
        "import tensorflow as tf"
      ],
      "execution_count": null,
      "outputs": []
    },
    {
      "cell_type": "code",
      "metadata": {
        "id": "hzEmqPjlSoiF",
        "colab_type": "code",
        "colab": {}
      },
      "source": [
        "(x_train,_),(_,_)=tf.keras.datasets.cifar10.load_data()"
      ],
      "execution_count": null,
      "outputs": []
    },
    {
      "cell_type": "code",
      "metadata": {
        "id": "tel7ip6MS84L",
        "colab_type": "code",
        "colab": {}
      },
      "source": [
        "img=x_train[2]"
      ],
      "execution_count": null,
      "outputs": []
    },
    {
      "cell_type": "code",
      "metadata": {
        "id": "RHFOW2weTKEr",
        "colab_type": "code",
        "colab": {}
      },
      "source": [
        "del x_train"
      ],
      "execution_count": null,
      "outputs": []
    },
    {
      "cell_type": "code",
      "metadata": {
        "id": "ZT26t-7dTSa4",
        "colab_type": "code",
        "colab": {
          "base_uri": "https://localhost:8080/",
          "height": 35
        },
        "outputId": "4bc42c94-9588-45e3-b95d-95892a00ba2a"
      },
      "source": [
        "#We need to check the nature of the selected image. \n",
        "\n",
        "img.shape"
      ],
      "execution_count": null,
      "outputs": [
        {
          "output_type": "execute_result",
          "data": {
            "text/plain": [
              "(32, 32, 3)"
            ]
          },
          "metadata": {
            "tags": []
          },
          "execution_count": 48
        }
      ]
    },
    {
      "cell_type": "code",
      "metadata": {
        "id": "HF4D9CLrT5Vf",
        "colab_type": "code",
        "colab": {}
      },
      "source": [
        "img_array=tf.image.resize(img,(64,64),preserve_aspect_ratio=True,antialias=False,name=None)"
      ],
      "execution_count": null,
      "outputs": []
    },
    {
      "cell_type": "code",
      "metadata": {
        "id": "vQ2Jk99qT5of",
        "colab_type": "code",
        "colab": {}
      },
      "source": [
        "#We then rotate the image 90 degrees.\n",
        "\n",
        "img_r=tf.image.rot90(img_array)"
      ],
      "execution_count": null,
      "outputs": []
    },
    {
      "cell_type": "code",
      "metadata": {
        "id": "INOxuPmVVxEr",
        "colab_type": "code",
        "colab": {}
      },
      "source": [
        "#We then plot the image.\n",
        "import matplotlib.pyplot as plt\n",
        "%matplotlib inline\n",
        "\n"
      ],
      "execution_count": null,
      "outputs": []
    },
    {
      "cell_type": "code",
      "metadata": {
        "id": "PsSTeQnSWEj8",
        "colab_type": "code",
        "colab": {
          "base_uri": "https://localhost:8080/",
          "height": 221
        },
        "outputId": "4f2a3000-44c5-4c97-b6ca-2355c6993cc5"
      },
      "source": [
        "plt.subplot(121)\n",
        "plt.imshow(img, cmap='gray')\n",
        "plt.subplot(122)\n",
        "plt.imshow(img_r.numpy().astype('uint8'), cmap='gray')"
      ],
      "execution_count": null,
      "outputs": [
        {
          "output_type": "execute_result",
          "data": {
            "text/plain": [
              "<matplotlib.image.AxesImage at 0x7f74ba0e5320>"
            ]
          },
          "metadata": {
            "tags": []
          },
          "execution_count": 56
        },
        {
          "output_type": "display_data",
          "data": {
            "image/png": "[encoded data removed]",
            "text/plain": [
              "<Figure size 432x288 with 2 Axes>"
            ]
          },
          "metadata": {
            "tags": [],
            "needs_background": "light"
          }
        }
      ]
    },
    {
      "cell_type": "code",
      "metadata": {
        "id": "UbPJOOOLaIVZ",
        "colab_type": "code",
        "colab": {
          "base_uri": "https://localhost:8080/",
          "height": 269
        },
        "outputId": "0f30375b-cfb5-431a-8ed2-25d026a639bc"
      },
      "source": [
        "#Question One on the workbook///\n",
        "fig, ax1=plt.subplots(2,2)\n",
        "\n"
      ],
      "execution_count": null,
      "outputs": [
        {
          "output_type": "display_data",
          "data": {
            "image/png": "[encoded data removed]",
            "text/plain": [
              "<Figure size 432x288 with 4 Axes>"
            ]
          },
          "metadata": {
            "tags": [],
            "needs_background": "light"
          }
        }
      ]
    },
    {
      "cell_type": "markdown",
      "metadata": {
        "id": "YDM0NQ30cBwV",
        "colab_type": "text"
      },
      "source": [
        "### Mounting Data from Google Drive"
      ]
    },
    {
      "cell_type": "markdown",
      "metadata": {
        "id": "2TtXuaF6cKAZ",
        "colab_type": "text"
      },
      "source": [
        "Sometimes you have dataset that is in the drive. When working with colab, it is possible to mount data from Google Drive. "
      ]
    },
    {
      "cell_type": "code",
      "metadata": {
        "id": "fWINAClrbmm8",
        "colab_type": "code",
        "colab": {
          "base_uri": "https://localhost:8080/",
          "height": 239
        },
        "outputId": "4f190436-1ac8-417a-d0e9-433fe3175ea2"
      },
      "source": [
        "pip install kaggle"
      ],
      "execution_count": null,
      "outputs": [
        {
          "output_type": "stream",
          "text": [
            "Requirement already satisfied: kaggle in /usr/local/lib/python3.6/dist-packages (1.5.6)\n",
            "Requirement already satisfied: requests in /usr/local/lib/python3.6/dist-packages (from kaggle) (2.23.0)\n",
            "Requirement already satisfied: python-dateutil in /usr/local/lib/python3.6/dist-packages (from kaggle) (2.8.1)\n",
            "Requirement already satisfied: six>=1.10 in /usr/local/lib/python3.6/dist-packages (from kaggle) (1.15.0)\n",
            "Requirement already satisfied: python-slugify in /usr/local/lib/python3.6/dist-packages (from kaggle) (4.0.1)\n",
            "Requirement already satisfied: tqdm in /usr/local/lib/python3.6/dist-packages (from kaggle) (4.41.1)\n",
            "Requirement already satisfied: urllib3<1.25,>=1.21.1 in /usr/local/lib/python3.6/dist-packages (from kaggle) (1.24.3)\n",
            "Requirement already satisfied: certifi in /usr/local/lib/python3.6/dist-packages (from kaggle) (2020.6.20)\n",
            "Requirement already satisfied: idna<3,>=2.5 in /usr/local/lib/python3.6/dist-packages (from requests->kaggle) (2.10)\n",
            "Requirement already satisfied: chardet<4,>=3.0.2 in /usr/local/lib/python3.6/dist-packages (from requests->kaggle) (3.0.4)\n",
            "Requirement already satisfied: text-unidecode>=1.3 in /usr/local/lib/python3.6/dist-packages (from python-slugify->kaggle) (1.3)\n"
          ],
          "name": "stdout"
        }
      ]
    },
    {
      "cell_type": "code",
      "metadata": {
        "id": "XgO0x0tYeIwe",
        "colab_type": "code",
        "colab": {}
      },
      "source": [
        ""
      ],
      "execution_count": null,
      "outputs": []
    },
    {
      "cell_type": "code",
      "metadata": {
        "id": "Cchzt_-cfTHc",
        "colab_type": "code",
        "colab": {
          "base_uri": "https://localhost:8080/",
          "height": 129
        },
        "outputId": "3eb08c3b-fba2-4ae8-a749-dab755d2c9fd"
      },
      "source": [
        "from google.colab import drive\n",
        "drive.mount('/content/drive/')"
      ],
      "execution_count": null,
      "outputs": [
        {
          "output_type": "stream",
          "text": [
            "Go to this URL in a browser: https://accounts.google.com/o/oauth2/auth?client_id=947318989803-6bn6qk8qdgf4n4g3pfee6491hc0brc4i.apps.googleusercontent.com&redirect_uri=urn%3aietf%3awg%3aoauth%3a2.0%3aoob&response_type=code&scope=email%20https%3a%2f%2fwww.googleapis.com%2fauth%2fdocs.test%20https%3a%2f%2fwww.googleapis.com%2fauth%2fdrive%20https%3a%2f%2fwww.googleapis.com%2fauth%2fdrive.photos.readonly%20https%3a%2f%2fwww.googleapis.com%2fauth%2fpeopleapi.readonly\n",
            "\n",
            "Enter your authorization code:\n",
            "··········\n",
            "Mounted at /content/drive/\n"
          ],
          "name": "stdout"
        }
      ]
    },
    {
      "cell_type": "code",
      "metadata": {
        "id": "yThdGerxkf0z",
        "colab_type": "code",
        "colab": {
          "base_uri": "https://localhost:8080/",
          "height": 35
        },
        "outputId": "cf662d62-6338-4320-b9c6-ce4c47da0fc6"
      },
      "source": [
        "!ls './drive/My Drive/data'"
      ],
      "execution_count": null,
      "outputs": [
        {
          "output_type": "stream",
          "text": [
            "cars\n"
          ],
          "name": "stdout"
        }
      ]
    },
    {
      "cell_type": "code",
      "metadata": {
        "id": "tmHL8R7C-Yug",
        "colab_type": "code",
        "colab": {}
      },
      "source": [
        ""
      ],
      "execution_count": null,
      "outputs": []
    },
    {
      "cell_type": "markdown",
      "metadata": {
        "id": "jpUxQgl6MM3K",
        "colab_type": "text"
      },
      "source": [
        "# Data Acquisition and Pre-Processing"
      ]
    },
    {
      "cell_type": "markdown",
      "metadata": {
        "id": "6gIj5UMw-yZB",
        "colab_type": "text"
      },
      "source": [
        "The main objectives of this section:\n",
        "\n",
        "\n",
        "*   Introduce the tools required to access and format large datasets programmatically (i.e with code) and those specific to analyzing satellite or other geospatial imagery.\n",
        "\n",
        "*   Introduction to geospatial imagery formats and concepts (imagery in a particular coordinate system) \n",
        "\n",
        "*  Introduction to image labeling workflows.\n",
        "\n"
      ]
    },
    {
      "cell_type": "markdown",
      "metadata": {
        "id": "myNGphAaADtv",
        "colab_type": "text"
      },
      "source": [
        "This is the most difficult part of our project (Since it will introduce domain specific concepts). Specifically the domain is **geospatial analysis**, but also cartography, geodesy, and satellite remote sensing. A few terms:\n",
        "\n",
        "\n",
        "*   Remote Sensing- the fancy term for satellite images\n",
        "*   Orthorectification - Process of lining up images to a base map (the \"rectification\" part, and correcting distortion associated with varying elevation -- height - this is the ortho part)\n",
        "\n",
        "*   UTM - Universal Transverse Mercator - Coordinate system like latitude/longitude. Requires a \"zone\", that differs where you are in longitude (the UTM number) and whether or not you are in the northern or southern hemispher.\n",
        "* Raster/Vector - Raster - pixel images, Vector - series of points.\n",
        "DEM - Digital Evevation Map -- the height of any place on Earth.\n",
        "\n"
      ]
    },
    {
      "cell_type": "markdown",
      "metadata": {
        "id": "_mqXDi9kCm0U",
        "colab_type": "text"
      },
      "source": [
        "All of the images we will work with are of lakes somewhere on Earth. Some of the imagery we will be working with an explicity reference the location of the image on the Earth (the coordinates). The coordinate system whose locations refer to (called a coordinate reference system, or CRS). Such information is called metadata and is stored in the image headers. This milestone will explore various image formats (most common), namely geo TIFF (.tif or tiff) file extensions and also JPEG- 2000 (.jp2 extension)\n",
        "Rasters or \"gridded data\" are stored as a grid of values which are rendered on a map as pixels. E.g. Google Earth Imagery.  Can be 2D when they depict only one band of intensities. The 2D images horizontal (in both directions).  Can also be 3D if you have a stack 3 2D rasters on top of one another.  For example every color photograph you have seen is a 3D raster, composed of 3 2D rasters: The first is the intensity in the red(R) channel, the 2nd is Green, and the third is Blue.  - RGB- 3D rasters = multispectral. spectral is because of EM spectrum representation of the R, G and B. Note: satellites also colllect data in portions that we cannot see (infra-red and ulta-violet portions). Depending on the number of bands, such data is called either multispectral or hyperspectral. If you stack more than 3 bands in raster then it is called a hyperspectral imagery. and not 4D or 5D. Such images may have up to hundreds of individual bands or sensitivities to different portions of the EMS. Each pixel value of the raster represents an area on the Earth's surface and is therefore, sensitive to the groud moisture and temperature as well as weather and other atmospheric variations. It is difficult to use satellite imagery only and this is why we need  Deep learning  for this kind of problem. A raster file is composed of regular grid of cells, all of which are the same size. However the raster we are going to work with are different from the photographs because they are spatially referenced. I you pick a piexel it represents an area of land on the ground. And the area of a pixel on the groud is defined by spatial resolution of the raster.  We are working with Sentinel 2 with 10-m spatial resolution (10m*10m ) area on the groud. \n",
        "\n",
        "\n",
        "\n"
      ]
    },
    {
      "cell_type": "markdown",
      "metadata": {
        "id": "poaPPsM2MbX_",
        "colab_type": "text"
      },
      "source": [
        "\n",
        "\n",
        "1. Dataset 1: A time series of the cloudless sentinel 2 imagery. \n",
        "\n",
        "\n",
        "\n",
        "*   Use it to know sentinel 2 satellite imagery and illustrate how Earths lakes are changing \n",
        "*   Develop \"test\" dataset required to evaluate the models. Using python and Sentinel 2 cloudless API  and working with raster imagery.\n",
        "\n",
        "* View imagery == (optional) - QGIS \n",
        "\n",
        "\n",
        "2.   Dataset 2: NWPU- RESISC45 dataset of land covers and uses\n",
        "\n",
        "\n",
        "*   Write a python program to download, unzip  and split and prepare the data\n",
        "*   Load and display an example image and label in the Jypter notebook.\n",
        "\n",
        "\n",
        "3. Creating our own label data. \n",
        "\n",
        "\n",
        "*   Creating label with the makesense site\n",
        "*   The VGG JSON formt for polygon annotations\n",
        "4. Convert the VGG JSON label format into a label image using Python.\n",
        "5. Develop own dataset using the Sentinelsat package\n",
        "\n",
        "\n",
        "*   Sentinel API-- Introduction to GeoJSON and API query using GeoJSON. Filtering imagery by mission orbit, date, type, cloud cover etc. \n",
        "*   Unzipping compressed files\n",
        "* Merge Imagery with Rasterio.\n",
        "\n",
        "\n",
        "\n",
        "\n",
        "\n",
        "\n",
        "\n",
        "\n",
        "\n"
      ]
    },
    {
      "cell_type": "code",
      "metadata": {
        "id": "4L8Yb3rieH5f",
        "colab_type": "code",
        "colab": {}
      },
      "source": [
        "# Load the necessary libraries"
      ],
      "execution_count": null,
      "outputs": []
    },
    {
      "cell_type": "code",
      "metadata": {
        "id": "KxvjLtPxRu_7",
        "colab_type": "code",
        "colab": {
          "base_uri": "https://localhost:8080/",
          "height": 349
        },
        "outputId": "a5ac415b-72c7-4953-a18e-1488436fce39"
      },
      "source": [
        "pip install rasterio"
      ],
      "execution_count": null,
      "outputs": [
        {
          "output_type": "stream",
          "text": [
            "Collecting rasterio\n",
            "\u001b[?25l  Downloading https://files.pythonhosted.org/packages/02/7e/eed7dfd109fc89ed3cf8b5ed3f26f841b03b92f6ca1c31c4745f938a081b/rasterio-1.1.5-cp36-cp36m-manylinux1_x86_64.whl (18.2MB)\n",
            "\u001b[K     |████████████████████████████████| 18.2MB 1.3MB/s \n",
            "\u001b[?25hRequirement already satisfied: numpy in /usr/local/lib/python3.6/dist-packages (from rasterio) (1.18.5)\n",
            "Collecting click-plugins\n",
            "  Downloading https://files.pythonhosted.org/packages/e9/da/824b92d9942f4e472702488857914bdd50f73021efea15b4cad9aca8ecef/click_plugins-1.1.1-py2.py3-none-any.whl\n",
            "Requirement already satisfied: click<8,>=4.0 in /usr/local/lib/python3.6/dist-packages (from rasterio) (7.1.2)\n",
            "Collecting cligj>=0.5\n",
            "  Downloading https://files.pythonhosted.org/packages/e4/be/30a58b4b0733850280d01f8bd132591b4668ed5c7046761098d665ac2174/cligj-0.5.0-py3-none-any.whl\n",
            "Collecting snuggs>=1.4.1\n",
            "  Downloading https://files.pythonhosted.org/packages/cc/0e/d27d6e806d6c0d1a2cfdc5d1f088e42339a0a54a09c3343f7f81ec8947ea/snuggs-1.4.7-py3-none-any.whl\n",
            "Collecting affine\n",
            "  Downloading https://files.pythonhosted.org/packages/ac/a6/1a39a1ede71210e3ddaf623982b06ecfc5c5c03741ae659073159184cd3e/affine-2.3.0-py2.py3-none-any.whl\n",
            "Requirement already satisfied: attrs in /usr/local/lib/python3.6/dist-packages (from rasterio) (19.3.0)\n",
            "Requirement already satisfied: pyparsing>=2.1.6 in /usr/local/lib/python3.6/dist-packages (from snuggs>=1.4.1->rasterio) (2.4.7)\n",
            "Installing collected packages: click-plugins, cligj, snuggs, affine, rasterio\n",
            "Successfully installed affine-2.3.0 click-plugins-1.1.1 cligj-0.5.0 rasterio-1.1.5 snuggs-1.4.7\n"
          ],
          "name": "stdout"
        }
      ]
    },
    {
      "cell_type": "code",
      "metadata": {
        "id": "pjZyldAvMSAX",
        "colab_type": "code",
        "colab": {}
      },
      "source": [
        "from PIL import Image, ImageDraw\n",
        "import matplotlib\n",
        "import matplotlib.pyplot as plt\n",
        "import numpy as np\n",
        "import json, os, glob\n",
        "import rasterio"
      ],
      "execution_count": null,
      "outputs": []
    },
    {
      "cell_type": "code",
      "metadata": {
        "id": "Qr4yl_bXSSOo",
        "colab_type": "code",
        "colab": {}
      },
      "source": [
        ""
      ],
      "execution_count": null,
      "outputs": []
    },
    {
      "cell_type": "code",
      "metadata": {
        "id": "b1wJkyLvSSj6",
        "colab_type": "code",
        "colab": {}
      },
      "source": [
        ""
      ],
      "execution_count": null,
      "outputs": []
    },
    {
      "cell_type": "markdown",
      "metadata": {
        "id": "mEndnccWMSpl",
        "colab_type": "text"
      },
      "source": [
        "# Enhancing and Segmenting Images"
      ]
    },
    {
      "cell_type": "code",
      "metadata": {
        "id": "b09B2NOVMXoX",
        "colab_type": "code",
        "colab": {}
      },
      "source": [
        ""
      ],
      "execution_count": null,
      "outputs": []
    },
    {
      "cell_type": "markdown",
      "metadata": {
        "id": "6Mt48xe9MYfy",
        "colab_type": "text"
      },
      "source": [
        "# Model Training and Evaluation"
      ]
    },
    {
      "cell_type": "code",
      "metadata": {
        "id": "OB6oLJ0sMb9n",
        "colab_type": "code",
        "colab": {}
      },
      "source": [
        ""
      ],
      "execution_count": null,
      "outputs": []
    },
    {
      "cell_type": "markdown",
      "metadata": {
        "id": "ne8w4xLnMcia",
        "colab_type": "text"
      },
      "source": [
        "# Model Optimization"
      ]
    },
    {
      "cell_type": "code",
      "metadata": {
        "id": "RZOW-NfnMfQi",
        "colab_type": "code",
        "colab": {}
      },
      "source": [
        ""
      ],
      "execution_count": null,
      "outputs": []
    },
    {
      "cell_type": "markdown",
      "metadata": {
        "id": "OQnE0rJfMfzH",
        "colab_type": "text"
      },
      "source": [
        "# Reporting to UNESCO"
      ]
    },
    {
      "cell_type": "code",
      "metadata": {
        "id": "b7n2Zbs6MiMN",
        "colab_type": "code",
        "colab": {}
      },
      "source": [
        ""
      ],
      "execution_count": null,
      "outputs": []
    }
  ]
}